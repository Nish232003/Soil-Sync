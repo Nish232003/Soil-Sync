{
 "cells": [
  {
   "cell_type": "code",
   "execution_count": 1,
   "id": "a1df42bc",
   "metadata": {},
   "outputs": [
    {
     "data": {
      "text/html": [
       "<div>\n",
       "<style scoped>\n",
       "    .dataframe tbody tr th:only-of-type {\n",
       "        vertical-align: middle;\n",
       "    }\n",
       "\n",
       "    .dataframe tbody tr th {\n",
       "        vertical-align: top;\n",
       "    }\n",
       "\n",
       "    .dataframe thead th {\n",
       "        text-align: right;\n",
       "    }\n",
       "</style>\n",
       "<table border=\"1\" class=\"dataframe\">\n",
       "  <thead>\n",
       "    <tr style=\"text-align: right;\">\n",
       "      <th></th>\n",
       "      <th>N</th>\n",
       "      <th>P</th>\n",
       "      <th>K</th>\n",
       "      <th>pH</th>\n",
       "      <th>EC</th>\n",
       "      <th>OC</th>\n",
       "      <th>S</th>\n",
       "      <th>Zn</th>\n",
       "      <th>Fe</th>\n",
       "      <th>Cu</th>\n",
       "      <th>Mn</th>\n",
       "      <th>B</th>\n",
       "      <th>Output</th>\n",
       "    </tr>\n",
       "  </thead>\n",
       "  <tbody>\n",
       "    <tr>\n",
       "      <th>0</th>\n",
       "      <td>138</td>\n",
       "      <td>8.6</td>\n",
       "      <td>560</td>\n",
       "      <td>7.46</td>\n",
       "      <td>0.62</td>\n",
       "      <td>0.70</td>\n",
       "      <td>5.9</td>\n",
       "      <td>0.24</td>\n",
       "      <td>0.31</td>\n",
       "      <td>0.77</td>\n",
       "      <td>8.71</td>\n",
       "      <td>0.11</td>\n",
       "      <td>0</td>\n",
       "    </tr>\n",
       "    <tr>\n",
       "      <th>1</th>\n",
       "      <td>213</td>\n",
       "      <td>7.5</td>\n",
       "      <td>338</td>\n",
       "      <td>7.62</td>\n",
       "      <td>0.75</td>\n",
       "      <td>1.06</td>\n",
       "      <td>25.4</td>\n",
       "      <td>0.30</td>\n",
       "      <td>0.86</td>\n",
       "      <td>1.54</td>\n",
       "      <td>2.89</td>\n",
       "      <td>2.29</td>\n",
       "      <td>0</td>\n",
       "    </tr>\n",
       "    <tr>\n",
       "      <th>2</th>\n",
       "      <td>163</td>\n",
       "      <td>9.6</td>\n",
       "      <td>718</td>\n",
       "      <td>7.59</td>\n",
       "      <td>0.51</td>\n",
       "      <td>1.11</td>\n",
       "      <td>14.3</td>\n",
       "      <td>0.30</td>\n",
       "      <td>0.86</td>\n",
       "      <td>1.57</td>\n",
       "      <td>2.70</td>\n",
       "      <td>2.03</td>\n",
       "      <td>0</td>\n",
       "    </tr>\n",
       "    <tr>\n",
       "      <th>3</th>\n",
       "      <td>157</td>\n",
       "      <td>6.8</td>\n",
       "      <td>475</td>\n",
       "      <td>7.64</td>\n",
       "      <td>0.58</td>\n",
       "      <td>0.94</td>\n",
       "      <td>26.0</td>\n",
       "      <td>0.34</td>\n",
       "      <td>0.54</td>\n",
       "      <td>1.53</td>\n",
       "      <td>2.65</td>\n",
       "      <td>1.82</td>\n",
       "      <td>0</td>\n",
       "    </tr>\n",
       "    <tr>\n",
       "      <th>4</th>\n",
       "      <td>270</td>\n",
       "      <td>9.9</td>\n",
       "      <td>444</td>\n",
       "      <td>7.63</td>\n",
       "      <td>0.40</td>\n",
       "      <td>0.86</td>\n",
       "      <td>11.8</td>\n",
       "      <td>0.25</td>\n",
       "      <td>0.76</td>\n",
       "      <td>1.69</td>\n",
       "      <td>2.43</td>\n",
       "      <td>2.26</td>\n",
       "      <td>1</td>\n",
       "    </tr>\n",
       "  </tbody>\n",
       "</table>\n",
       "</div>"
      ],
      "text/plain": [
       "     N    P    K    pH    EC    OC     S    Zn    Fe    Cu    Mn     B  Output\n",
       "0  138  8.6  560  7.46  0.62  0.70   5.9  0.24  0.31  0.77  8.71  0.11       0\n",
       "1  213  7.5  338  7.62  0.75  1.06  25.4  0.30  0.86  1.54  2.89  2.29       0\n",
       "2  163  9.6  718  7.59  0.51  1.11  14.3  0.30  0.86  1.57  2.70  2.03       0\n",
       "3  157  6.8  475  7.64  0.58  0.94  26.0  0.34  0.54  1.53  2.65  1.82       0\n",
       "4  270  9.9  444  7.63  0.40  0.86  11.8  0.25  0.76  1.69  2.43  2.26       1"
      ]
     },
     "execution_count": 1,
     "metadata": {},
     "output_type": "execute_result"
    }
   ],
   "source": [
    "import pandas as pd\n",
    "df = pd.read_csv('finaldataset.csv')\n",
    "df.head()"
   ]
  },
  {
   "cell_type": "code",
   "execution_count": 2,
   "id": "a5bba68e",
   "metadata": {},
   "outputs": [
    {
     "name": "stdout",
     "output_type": "stream",
     "text": [
      "<class 'pandas.core.frame.DataFrame'>\n",
      "RangeIndex: 880 entries, 0 to 879\n",
      "Data columns (total 13 columns):\n",
      " #   Column  Non-Null Count  Dtype  \n",
      "---  ------  --------------  -----  \n",
      " 0   N       880 non-null    int64  \n",
      " 1   P       880 non-null    float64\n",
      " 2   K       880 non-null    int64  \n",
      " 3   pH      880 non-null    float64\n",
      " 4   EC      880 non-null    float64\n",
      " 5   OC      880 non-null    float64\n",
      " 6   S       880 non-null    float64\n",
      " 7   Zn      880 non-null    float64\n",
      " 8   Fe      880 non-null    float64\n",
      " 9   Cu      880 non-null    float64\n",
      " 10  Mn      880 non-null    float64\n",
      " 11  B       880 non-null    float64\n",
      " 12  Output  880 non-null    int64  \n",
      "dtypes: float64(10), int64(3)\n",
      "memory usage: 89.5 KB\n"
     ]
    }
   ],
   "source": [
    "df.info()"
   ]
  },
  {
   "cell_type": "code",
   "execution_count": 3,
   "id": "908def3a",
   "metadata": {},
   "outputs": [
    {
     "data": {
      "text/html": [
       "<div>\n",
       "<style scoped>\n",
       "    .dataframe tbody tr th:only-of-type {\n",
       "        vertical-align: middle;\n",
       "    }\n",
       "\n",
       "    .dataframe tbody tr th {\n",
       "        vertical-align: top;\n",
       "    }\n",
       "\n",
       "    .dataframe thead th {\n",
       "        text-align: right;\n",
       "    }\n",
       "</style>\n",
       "<table border=\"1\" class=\"dataframe\">\n",
       "  <thead>\n",
       "    <tr style=\"text-align: right;\">\n",
       "      <th></th>\n",
       "      <th>N</th>\n",
       "      <th>P</th>\n",
       "      <th>K</th>\n",
       "      <th>pH</th>\n",
       "      <th>EC</th>\n",
       "      <th>OC</th>\n",
       "      <th>S</th>\n",
       "      <th>Zn</th>\n",
       "      <th>Fe</th>\n",
       "      <th>Cu</th>\n",
       "      <th>Mn</th>\n",
       "      <th>B</th>\n",
       "      <th>Output</th>\n",
       "    </tr>\n",
       "  </thead>\n",
       "  <tbody>\n",
       "    <tr>\n",
       "      <th>count</th>\n",
       "      <td>880.00000</td>\n",
       "      <td>880.000000</td>\n",
       "      <td>880.000000</td>\n",
       "      <td>880.000000</td>\n",
       "      <td>880.000000</td>\n",
       "      <td>880.000000</td>\n",
       "      <td>880.000000</td>\n",
       "      <td>880.000000</td>\n",
       "      <td>880.000000</td>\n",
       "      <td>880.000000</td>\n",
       "      <td>880.000000</td>\n",
       "      <td>880.000000</td>\n",
       "      <td>880.000000</td>\n",
       "    </tr>\n",
       "    <tr>\n",
       "      <th>mean</th>\n",
       "      <td>246.73750</td>\n",
       "      <td>14.562159</td>\n",
       "      <td>499.978409</td>\n",
       "      <td>7.510500</td>\n",
       "      <td>0.543659</td>\n",
       "      <td>0.617989</td>\n",
       "      <td>7.545080</td>\n",
       "      <td>0.469273</td>\n",
       "      <td>4.140523</td>\n",
       "      <td>0.952443</td>\n",
       "      <td>8.666500</td>\n",
       "      <td>0.590159</td>\n",
       "      <td>0.588636</td>\n",
       "    </tr>\n",
       "    <tr>\n",
       "      <th>std</th>\n",
       "      <td>77.38886</td>\n",
       "      <td>21.967755</td>\n",
       "      <td>124.222838</td>\n",
       "      <td>0.464912</td>\n",
       "      <td>0.141597</td>\n",
       "      <td>0.842986</td>\n",
       "      <td>4.424184</td>\n",
       "      <td>1.894234</td>\n",
       "      <td>3.110011</td>\n",
       "      <td>0.465900</td>\n",
       "      <td>4.298828</td>\n",
       "      <td>0.570800</td>\n",
       "      <td>0.575462</td>\n",
       "    </tr>\n",
       "    <tr>\n",
       "      <th>min</th>\n",
       "      <td>6.00000</td>\n",
       "      <td>2.900000</td>\n",
       "      <td>11.000000</td>\n",
       "      <td>0.900000</td>\n",
       "      <td>0.100000</td>\n",
       "      <td>0.100000</td>\n",
       "      <td>0.640000</td>\n",
       "      <td>0.070000</td>\n",
       "      <td>0.210000</td>\n",
       "      <td>0.090000</td>\n",
       "      <td>0.110000</td>\n",
       "      <td>0.060000</td>\n",
       "      <td>0.000000</td>\n",
       "    </tr>\n",
       "    <tr>\n",
       "      <th>25%</th>\n",
       "      <td>201.00000</td>\n",
       "      <td>6.800000</td>\n",
       "      <td>412.000000</td>\n",
       "      <td>7.350000</td>\n",
       "      <td>0.430000</td>\n",
       "      <td>0.380000</td>\n",
       "      <td>4.700000</td>\n",
       "      <td>0.280000</td>\n",
       "      <td>2.050000</td>\n",
       "      <td>0.630000</td>\n",
       "      <td>6.225000</td>\n",
       "      <td>0.270000</td>\n",
       "      <td>0.000000</td>\n",
       "    </tr>\n",
       "    <tr>\n",
       "      <th>50%</th>\n",
       "      <td>257.00000</td>\n",
       "      <td>8.100000</td>\n",
       "      <td>475.000000</td>\n",
       "      <td>7.500000</td>\n",
       "      <td>0.545000</td>\n",
       "      <td>0.590000</td>\n",
       "      <td>6.640000</td>\n",
       "      <td>0.360000</td>\n",
       "      <td>3.565000</td>\n",
       "      <td>0.930000</td>\n",
       "      <td>8.345000</td>\n",
       "      <td>0.405000</td>\n",
       "      <td>1.000000</td>\n",
       "    </tr>\n",
       "    <tr>\n",
       "      <th>75%</th>\n",
       "      <td>307.00000</td>\n",
       "      <td>10.550000</td>\n",
       "      <td>581.000000</td>\n",
       "      <td>7.630000</td>\n",
       "      <td>0.640000</td>\n",
       "      <td>0.780000</td>\n",
       "      <td>8.750000</td>\n",
       "      <td>0.470000</td>\n",
       "      <td>6.320000</td>\n",
       "      <td>1.250000</td>\n",
       "      <td>11.472500</td>\n",
       "      <td>0.610000</td>\n",
       "      <td>1.000000</td>\n",
       "    </tr>\n",
       "    <tr>\n",
       "      <th>max</th>\n",
       "      <td>383.00000</td>\n",
       "      <td>125.000000</td>\n",
       "      <td>887.000000</td>\n",
       "      <td>11.150000</td>\n",
       "      <td>0.950000</td>\n",
       "      <td>24.000000</td>\n",
       "      <td>31.000000</td>\n",
       "      <td>42.000000</td>\n",
       "      <td>44.000000</td>\n",
       "      <td>3.020000</td>\n",
       "      <td>31.000000</td>\n",
       "      <td>2.820000</td>\n",
       "      <td>2.000000</td>\n",
       "    </tr>\n",
       "  </tbody>\n",
       "</table>\n",
       "</div>"
      ],
      "text/plain": [
       "               N           P           K          pH          EC          OC  \\\n",
       "count  880.00000  880.000000  880.000000  880.000000  880.000000  880.000000   \n",
       "mean   246.73750   14.562159  499.978409    7.510500    0.543659    0.617989   \n",
       "std     77.38886   21.967755  124.222838    0.464912    0.141597    0.842986   \n",
       "min      6.00000    2.900000   11.000000    0.900000    0.100000    0.100000   \n",
       "25%    201.00000    6.800000  412.000000    7.350000    0.430000    0.380000   \n",
       "50%    257.00000    8.100000  475.000000    7.500000    0.545000    0.590000   \n",
       "75%    307.00000   10.550000  581.000000    7.630000    0.640000    0.780000   \n",
       "max    383.00000  125.000000  887.000000   11.150000    0.950000   24.000000   \n",
       "\n",
       "                S          Zn          Fe          Cu          Mn           B  \\\n",
       "count  880.000000  880.000000  880.000000  880.000000  880.000000  880.000000   \n",
       "mean     7.545080    0.469273    4.140523    0.952443    8.666500    0.590159   \n",
       "std      4.424184    1.894234    3.110011    0.465900    4.298828    0.570800   \n",
       "min      0.640000    0.070000    0.210000    0.090000    0.110000    0.060000   \n",
       "25%      4.700000    0.280000    2.050000    0.630000    6.225000    0.270000   \n",
       "50%      6.640000    0.360000    3.565000    0.930000    8.345000    0.405000   \n",
       "75%      8.750000    0.470000    6.320000    1.250000   11.472500    0.610000   \n",
       "max     31.000000   42.000000   44.000000    3.020000   31.000000    2.820000   \n",
       "\n",
       "           Output  \n",
       "count  880.000000  \n",
       "mean     0.588636  \n",
       "std      0.575462  \n",
       "min      0.000000  \n",
       "25%      0.000000  \n",
       "50%      1.000000  \n",
       "75%      1.000000  \n",
       "max      2.000000  "
      ]
     },
     "execution_count": 3,
     "metadata": {},
     "output_type": "execute_result"
    }
   ],
   "source": [
    "df.describe()"
   ]
  },
  {
   "cell_type": "code",
   "execution_count": 4,
   "id": "d3158fd8",
   "metadata": {},
   "outputs": [
    {
     "data": {
      "text/plain": [
       "Output\n",
       "1    440\n",
       "0    401\n",
       "2     39\n",
       "Name: count, dtype: int64"
      ]
     },
     "execution_count": 4,
     "metadata": {},
     "output_type": "execute_result"
    }
   ],
   "source": [
    "df['Output'].value_counts()"
   ]
  },
  {
   "cell_type": "code",
   "execution_count": 5,
   "id": "7787a6ed",
   "metadata": {},
   "outputs": [],
   "source": [
    "X = df.drop('Output', axis=1)\n",
    "y = df['Output']"
   ]
  },
  {
   "cell_type": "code",
   "execution_count": 6,
   "id": "c1385c8d",
   "metadata": {},
   "outputs": [],
   "source": [
    "from sklearn.model_selection import train_test_split\n",
    "\n",
    "X_train, X_test, y_train, y_test = train_test_split(X, y, test_size=0.2, random_state=42)"
   ]
  },
  {
   "cell_type": "code",
   "execution_count": 7,
   "id": "958b2472",
   "metadata": {},
   "outputs": [
    {
     "name": "stdout",
     "output_type": "stream",
     "text": [
      "Logistic Regression model trained successfully!\n"
     ]
    },
    {
     "name": "stderr",
     "output_type": "stream",
     "text": [
      "c:\\Users\\nishi\\AppData\\Local\\Programs\\Python\\Python311\\Lib\\site-packages\\sklearn\\linear_model\\_logistic.py:465: ConvergenceWarning: lbfgs failed to converge (status=1):\n",
      "STOP: TOTAL NO. OF ITERATIONS REACHED LIMIT.\n",
      "\n",
      "Increase the number of iterations (max_iter) or scale the data as shown in:\n",
      "    https://scikit-learn.org/stable/modules/preprocessing.html\n",
      "Please also refer to the documentation for alternative solver options:\n",
      "    https://scikit-learn.org/stable/modules/linear_model.html#logistic-regression\n",
      "  n_iter_i = _check_optimize_result(\n"
     ]
    }
   ],
   "source": [
    "from sklearn.linear_model import LogisticRegression\n",
    "\n",
    "# Create and train the model\n",
    "log_reg_model = LogisticRegression()\n",
    "log_reg_model.fit(X_train, y_train)\n",
    "\n",
    "print(\"Logistic Regression model trained successfully!\")"
   ]
  },
  {
   "cell_type": "code",
   "execution_count": 8,
   "id": "cb30f1f6",
   "metadata": {},
   "outputs": [
    {
     "name": "stdout",
     "output_type": "stream",
     "text": [
      "Random Forest model trained successfully!\n"
     ]
    }
   ],
   "source": [
    "from sklearn.ensemble import RandomForestClassifier\n",
    "\n",
    "# Create and train the model\n",
    "rf_model = RandomForestClassifier()\n",
    "rf_model.fit(X_train, y_train)\n",
    "\n",
    "print(\"Random Forest model trained successfully!\")"
   ]
  },
  {
   "cell_type": "code",
   "execution_count": 9,
   "id": "2e806c3f",
   "metadata": {},
   "outputs": [],
   "source": [
    "# Make predictions with both models\n",
    "log_reg_predictions = log_reg_model.predict(X_test)\n",
    "rf_predictions = rf_model.predict(X_test)"
   ]
  },
  {
   "cell_type": "code",
   "execution_count": 10,
   "id": "bd58f4e1",
   "metadata": {},
   "outputs": [
    {
     "name": "stdout",
     "output_type": "stream",
     "text": [
      "Logistic Regression Accuracy: 80.11%\n",
      "Random Forest Accuracy: 85.80%\n"
     ]
    }
   ],
   "source": [
    "from sklearn.metrics import accuracy_score\n",
    "\n",
    "# Check accuracy of Logistic Regression\n",
    "log_reg_accuracy = accuracy_score(y_test, log_reg_predictions)\n",
    "print(f\"Logistic Regression Accuracy: {log_reg_accuracy:.2%}\")\n",
    "\n",
    "# Check accuracy of Random Forest\n",
    "rf_accuracy = accuracy_score(y_test, rf_predictions)\n",
    "print(f\"Random Forest Accuracy: {rf_accuracy:.2%}\")"
   ]
  },
  {
   "cell_type": "code",
   "execution_count": 11,
   "id": "2696b234",
   "metadata": {},
   "outputs": [
    {
     "name": "stdout",
     "output_type": "stream",
     "text": [
      "Best model saved to model.pkl\n"
     ]
    }
   ],
   "source": [
    "import pickle\n",
    "\n",
    "# Save the trained Random Forest model to a file\n",
    "# If your other model was better, change 'rf_model' to 'log_reg_model'\n",
    "with open('model.pkl', 'wb') as file:\n",
    "    pickle.dump(rf_model, file)\n",
    "\n",
    "print(\"Best model saved to model.pkl\")"
   ]
  },
  {
   "cell_type": "code",
   "execution_count": null,
   "id": "5a04ca28",
   "metadata": {},
   "outputs": [],
   "source": []
  }
 ],
 "metadata": {
  "kernelspec": {
   "display_name": "Python 3",
   "language": "python",
   "name": "python3"
  },
  "language_info": {
   "codemirror_mode": {
    "name": "ipython",
    "version": 3
   },
   "file_extension": ".py",
   "mimetype": "text/x-python",
   "name": "python",
   "nbconvert_exporter": "python",
   "pygments_lexer": "ipython3",
   "version": "3.11.2"
  }
 },
 "nbformat": 4,
 "nbformat_minor": 5
}
